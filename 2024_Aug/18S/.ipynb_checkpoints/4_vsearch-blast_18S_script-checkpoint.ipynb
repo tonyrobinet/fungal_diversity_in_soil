{
 "cells": [
  {
   "cell_type": "code",
   "execution_count": 1,
   "id": "2c162ed7-beb5-4a9e-94ed-39c79f755ab4",
   "metadata": {},
   "outputs": [
    {
     "name": "stdout",
     "output_type": "stream",
     "text": [
      "(qiime2-amplicon-2024.5) \n"
     ]
    },
    {
     "ename": "",
     "evalue": "1",
     "output_type": "error",
     "traceback": []
    }
   ],
   "source": [
    "# install qiime2-amplicon-2024.5 from https://github.com/qiime2/qiime2\n",
    "# (prefer conda installation)\n",
    "\n",
    "source activate qiime2-amplicon-2024.5"
   ]
  },
  {
   "cell_type": "code",
   "execution_count": 2,
   "id": "d8134558-1ee3-49f2-8c22-76baeebc6e5e",
   "metadata": {},
   "outputs": [
    {
     "name": "stdout",
     "output_type": "stream",
     "text": [
      "(qiime2-amplicon-2024.5) \n",
      "(qiime2-amplicon-2024.5) \n",
      "(qiime2-amplicon-2024.5) \n",
      "(qiime2-amplicon-2024.5) \n",
      "(qiime2-amplicon-2024.5) \n",
      "(qiime2-amplicon-2024.5) \n",
      "\u001b[32mImported ./3_dada2-analysis/rep-seqs_18S.fna as DNASequencesDirectoryFormat to ./4_vsearch-analysis/rep-seqs_18S.qza\u001b[0m\n",
      "\u001b[0m(qiime2-amplicon-2024.5) \n",
      "(qiime2-amplicon-2024.5) \n",
      "(qiime2-amplicon-2024.5) \n",
      "(qiime2-amplicon-2024.5) \n",
      "\u001b[32mImported ./4_vsearch-analysis/st2_nochim_18S.biom as BIOMV210DirFmt to ./4_vsearch-analysis/st2_nochim_18S.qza\u001b[0m\n",
      "\u001b[0m(qiime2-amplicon-2024.5) \n",
      "(qiime2-amplicon-2024.5) \n",
      "(qiime2-amplicon-2024.5) \n",
      "(qiime2-amplicon-2024.5) \n",
      "(qiime2-amplicon-2024.5) \n",
      "(qiime2-amplicon-2024.5) \n",
      "\u001b[32mSaved FeatureTable[Frequency] to: ./4_vsearch-analysis/st2_nochim-97_18S.qza\u001b[0m\n",
      "\u001b[32mSaved FeatureData[Sequence] to: ./4_vsearch-analysis/rep-seqs-97_18S.qza\u001b[0m\n",
      "\u001b[0m(qiime2-amplicon-2024.5) \n"
     ]
    },
    {
     "ename": "",
     "evalue": "1",
     "output_type": "error",
     "traceback": []
    }
   ],
   "source": [
    "# Make consensus sequences (OTU) from ASVs\n",
    "\n",
    "##############18S\n",
    "# importation\n",
    "cd ~/sync/github/fungal_diversity_in_soil/2024_Aug/18S\n",
    "\n",
    "qiime tools import \\\n",
    "--input-path ./3_dada2_files/rep-seqs_18S.fna \\\n",
    "--type 'FeatureData[Sequence]' \\\n",
    "--output-path ./5_vsearch_files/rep-seqs_18S.qza\n",
    "\n",
    "biom convert -i ./3_dada2_files/st2_nochim_18S.txt -o ./5_vsearch_files/st2_nochim_18S.biom --table-type=\"OTU table\" --to-hdf5\n",
    "\n",
    "qiime tools import \\\n",
    "--input-path ./5_vsearch_files/st2_nochim_18S.biom \\\n",
    "--type 'FeatureTable[Frequency]' \\\n",
    "--output-path ./5_vsearch_files/st2_nochim_18S.qza\n",
    "\n",
    "\n",
    "\n",
    "# vsearch 97% similarity\n",
    "\n",
    "qiime vsearch cluster-features-de-novo \\\n",
    "  --i-table ./5_vsearch_files/st2_nochim_18S.qza \\\n",
    "  --i-sequences ./5_vsearch_files/rep-seqs_18S.qza \\\n",
    "  --p-perc-identity 0.97 \\\n",
    "  --p-threads 6 \\\n",
    "  --o-clustered-table ./5_vsearch_files/st2_nochim-97_18S.qza \\\n",
    "  --o-clustered-sequences ./5_vsearch_files/rep-seqs-97_18S.qza"
   ]
  },
  {
   "cell_type": "code",
   "execution_count": 3,
   "id": "81756b31-3bd6-495b-aae1-02f1248bc560",
   "metadata": {},
   "outputs": [
    {
     "name": "stdout",
     "output_type": "stream",
     "text": [
      "(qiime2-amplicon-2024.5) \n",
      "(qiime2-amplicon-2024.5) \n",
      "(qiime2-amplicon-2024.5) \n",
      "(qiime2-amplicon-2024.5) \n",
      "(qiime2-amplicon-2024.5) \n",
      "(qiime2-amplicon-2024.5) \n",
      "(qiime2-amplicon-2024.5) \n",
      "\u001b[32mExported ./st2_nochim-97_18S.qza as BIOMV210DirFmt to directory ./\u001b[0m\n",
      "\u001b[0m(qiime2-amplicon-2024.5) \n",
      "(qiime2-amplicon-2024.5) \n",
      "(qiime2-amplicon-2024.5) \n",
      "(qiime2-amplicon-2024.5) \n",
      "(qiime2-amplicon-2024.5) \n",
      "(qiime2-amplicon-2024.5) \n"
     ]
    },
    {
     "ename": "",
     "evalue": "1",
     "output_type": "error",
     "traceback": []
    }
   ],
   "source": [
    "# Export OTU tables\n",
    "\n",
    "cd ~/sync/github/fungal_diversity_in_soil/2024_Aug/18S/5_vsearch_files/\n",
    "\n",
    "##############\n",
    "# 18S\n",
    "\n",
    "qiime tools export \\\n",
    "    --input-path ./st2_nochim-97_18S.qza \\\n",
    "    --output-path ./\n",
    "    \n",
    "biom convert \\\n",
    "    -i ./feature-table.biom \\\n",
    "    -o ./feature-table-97_test202408_18S_PacBio.tsv --to-tsv\n",
    "\n",
    "# open the .tsv file with LibreOffice or Excel, select abundances, then Edition > Find and replace,\n",
    "# Seek for ^[0-9] and replace it by & (tick \"regular expressions\")"
   ]
  },
  {
   "cell_type": "code",
   "execution_count": null,
   "id": "5e7c9004-fdb4-4799-b60c-ac09ed53c922",
   "metadata": {},
   "outputs": [],
   "source": [
    "# download the reference database of Silva ngs (here version 138) directly pre-formatted for qiime2, one file for sequences, one file for taxonomy\n",
    "# https://docs.qiime2.org/2024.5/data-resources/\n",
    "# choose NR99 full length files\n",
    "# If you download directly from SILVA, files will have to be imported in qza format (please refer to qiime2 doc)."
   ]
  },
  {
   "cell_type": "code",
   "execution_count": null,
   "id": "e0ec7a4b-aeac-4032-85b4-eb0461668e64",
   "metadata": {},
   "outputs": [
    {
     "name": "stdout",
     "output_type": "stream",
     "text": [
      "(qiime2-amplicon-2024.5) \n",
      "(qiime2-amplicon-2024.5) \n"
     ]
    }
   ],
   "source": [
    "cd ~/sync/github/fungal_diversity_in_soil/2024_Aug/\n",
    "\n",
    "qiime feature-classifier classify-consensus-blast \\\n",
    "        --i-query  ./18S/5_vsearch_files/rep-seqs-97_18S.qza \\\n",
    "        --i-reference-reads ~/sync/references_metabarcoding/Silva138.2/silva-138.2-ssu-nr99-seqs.qza \\\n",
    "        --i-reference-taxonomy ~/sync/references_metabarcoding/Silva138.2/silva-138.2-ssu-nr99-tax.qza \\\n",
    "        --p-num-threads 8 \\\n",
    "        --o-classification ./18S/6_assignation_files/blast_test202408_18S_PacBio_silva-138.2-ssu-nr99.qza \\\n",
    "        --o-search-results ./18S/6_assignation_files/results_test202408_18S_PacBio_silva-138.2-ssu-nr99.qza\n",
    "\n",
    "# exporter en .biom\n",
    "qiime tools export \\\n",
    "        --input-path ./18S/6_assignation_files/blast_test202408_18S_PacBio_silva-138.2-ssu-nr99.qza \\\n",
    "        --output-path ./18S/6_assignation_files/\n",
    "\n",
    "qiime tools export \\\n",
    "        --input-path ./18S/6_assignation_files/results_test202408_18S_PacBio_silva-138.2-ssu-nr99.qza \\\n",
    "        --output-path ./18S/6_assignation_files/"
   ]
  }
 ],
 "metadata": {
  "kernelspec": {
   "display_name": "Bash",
   "language": "bash",
   "name": "bash"
  },
  "language_info": {
   "codemirror_mode": "shell",
   "file_extension": ".sh",
   "mimetype": "text/x-sh",
   "name": "bash"
  }
 },
 "nbformat": 4,
 "nbformat_minor": 5
}
