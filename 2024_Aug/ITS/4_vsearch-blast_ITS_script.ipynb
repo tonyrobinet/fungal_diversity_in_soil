{
 "cells": [
  {
   "cell_type": "code",
   "execution_count": 1,
   "id": "2c162ed7-beb5-4a9e-94ed-39c79f755ab4",
   "metadata": {},
   "outputs": [
    {
     "name": "stdout",
     "output_type": "stream",
     "text": [
      "(qiime2-amplicon-2024.5) \n"
     ]
    },
    {
     "ename": "",
     "evalue": "1",
     "output_type": "error",
     "traceback": []
    }
   ],
   "source": [
    "# install qiime2-amplicon-2024.5 from https://github.com/qiime2/qiime2\n",
    "# (prefer conda installation)\n",
    "\n",
    "source activate qiime2-amplicon-2024.5"
   ]
  },
  {
   "cell_type": "code",
   "execution_count": 5,
   "id": "891ef381-9df6-4782-a90f-f780118dcc11",
   "metadata": {},
   "outputs": [
    {
     "name": "stdout",
     "output_type": "stream",
     "text": [
      "(qiime2-amplicon-2024.5) \n",
      "(qiime2-amplicon-2024.5) \n",
      "(qiime2-amplicon-2024.5) \n",
      "(qiime2-amplicon-2024.5) \n",
      "(qiime2-amplicon-2024.5) \n",
      "(qiime2-amplicon-2024.5) \n",
      "\u001b[32mImported ./3_dada2-analysis/rep-seqs_ITS.fna as DNASequencesDirectoryFormat to ./4_vsearch-analysis/rep-seqs_ITS.qza\u001b[0m\n",
      "\u001b[0m(qiime2-amplicon-2024.5) \n",
      "(qiime2-amplicon-2024.5) \n",
      "(qiime2-amplicon-2024.5) \n",
      "(qiime2-amplicon-2024.5) \n",
      "\u001b[32mImported ./4_vsearch-analysis/st2_nochim_ITS.biom as BIOMV210DirFmt to ./4_vsearch-analysis/st2_nochim_ITS.qza\u001b[0m\n",
      "\u001b[0m(qiime2-amplicon-2024.5) \n",
      "(qiime2-amplicon-2024.5) \n",
      "(qiime2-amplicon-2024.5) \n",
      "(qiime2-amplicon-2024.5) \n",
      "(qiime2-amplicon-2024.5) \n",
      "(qiime2-amplicon-2024.5) \n",
      "(qiime2-amplicon-2024.5) \n",
      "\u001b[32mSaved FeatureTable[Frequency] to: ./4_vsearch-analysis/st2_nochim-97_ITS.qza\u001b[0m\n",
      "\u001b[32mSaved FeatureData[Sequence] to: ./4_vsearch-analysis/rep-seqs-97_ITS.qza\u001b[0m\n",
      "\u001b[0m(qiime2-amplicon-2024.5) \n",
      "(qiime2-amplicon-2024.5) \n",
      "(qiime2-amplicon-2024.5) \n",
      "(qiime2-amplicon-2024.5) \n",
      "(qiime2-amplicon-2024.5) \n",
      "(qiime2-amplicon-2024.5) \n",
      "\u001b[32mSaved FeatureTable[Frequency] to: ./4_vsearch-analysis/99/st2_nochim-99_ITS.qza\u001b[0m\n",
      "\u001b[32mSaved FeatureData[Sequence] to: ./4_vsearch-analysis/99/rep-seqs-99_ITS.qza\u001b[0m\n",
      "\u001b[0m(qiime2-amplicon-2024.5) \n"
     ]
    },
    {
     "ename": "",
     "evalue": "1",
     "output_type": "error",
     "traceback": []
    }
   ],
   "source": [
    "# Make 97% consensus sequences (OTU) from ASVs\n",
    "\n",
    "##############ITS\n",
    "# importation\n",
    "cd ~/sync/github/fungal_diversity_in_soil/2024_Aug/ITS\n",
    "\n",
    "qiime tools import \\\n",
    "--input-path ./3_dada2_files/rep-seqs_ITS.fna \\\n",
    "--type 'FeatureData[Sequence]' \\\n",
    "--output-path ./5_vsearch_files/rep-seqs_ITS.qza\n",
    "\n",
    "biom convert -i ./3_dada2_files/st2_nochim_ITS.txt -o ./5_vsearch_files/st2_nochim_ITS.biom --table-type=\"OTU table\" --to-hdf5\n",
    "\n",
    "qiime tools import \\\n",
    "--input-path ./5_vsearch_files/st2_nochim_ITS.biom \\\n",
    "--type 'FeatureTable[Frequency]' \\\n",
    "--output-path ./5_vsearch_files/st2_nochim_ITS.qza\n",
    "\n",
    "\n",
    "\n",
    "# vsearch 97% similarity\n",
    "mkdir ./5_vsearch_files/97\n",
    "\n",
    "qiime vsearch cluster-features-de-novo \\\n",
    "  --i-table ./5_vsearch_files/st2_nochim_ITS.qza \\\n",
    "  --i-sequences ./5_vsearch_files/rep-seqs_ITS.qza \\\n",
    "  --p-perc-identity 0.97 \\\n",
    "  --p-threads 6 \\\n",
    "  --o-clustered-table ./97/5_vsearch_files/st2_nochim-97_ITS.qza \\\n",
    "  --o-clustered-sequences ./97/5_vsearch_files/rep-seqs-97_ITS.qza\n",
    "\n",
    "\n",
    "# vsearch 99% similarity\n",
    "mkdir ./5_vsearch_files/99\n",
    "\n",
    "qiime vsearch cluster-features-de-novo \\\n",
    "  --i-table ./5_vsearch_files/st2_nochim_ITS.qza \\\n",
    "  --i-sequences ./5_vsearch_files/rep-seqs_ITS.qza \\\n",
    "  --p-perc-identity 0.99 \\\n",
    "  --p-threads 8 \\\n",
    "  --o-clustered-table ./99/5_vsearch_files/99/st2_nochim-99_ITS.qza \\\n",
    "  --o-clustered-sequences ./99/5_vsearch_files/99/rep-seqs-99_ITS.qza"
   ]
  },
  {
   "cell_type": "code",
   "execution_count": 6,
   "id": "81756b31-3bd6-495b-aae1-02f1248bc560",
   "metadata": {},
   "outputs": [
    {
     "name": "stdout",
     "output_type": "stream",
     "text": [
      "(qiime2-amplicon-2024.5) \n",
      "(qiime2-amplicon-2024.5) \n",
      "(qiime2-amplicon-2024.5) \n",
      "(qiime2-amplicon-2024.5) \n",
      "(qiime2-amplicon-2024.5) \n",
      "(qiime2-amplicon-2024.5) \n",
      "(qiime2-amplicon-2024.5) \n",
      "\u001b[32mExported ./97/st2_nochim-97_ITS.qza as BIOMV210DirFmt to directory ./97/\u001b[0m\n",
      "\u001b[0m(qiime2-amplicon-2024.5) \n",
      "(qiime2-amplicon-2024.5) \n",
      "(qiime2-amplicon-2024.5) \n",
      "(qiime2-amplicon-2024.5) \n",
      "(qiime2-amplicon-2024.5) \n",
      "\u001b[32mExported ./99/st2_nochim-99_ITS.qza as BIOMV210DirFmt to directory ./99/\u001b[0m\n",
      "\u001b[0m(qiime2-amplicon-2024.5) \n",
      "(qiime2-amplicon-2024.5) \n",
      "(qiime2-amplicon-2024.5) \n",
      "(qiime2-amplicon-2024.5) \n",
      "(qiime2-amplicon-2024.5) \n",
      "(qiime2-amplicon-2024.5) \n"
     ]
    },
    {
     "ename": "",
     "evalue": "1",
     "output_type": "error",
     "traceback": []
    }
   ],
   "source": [
    "# Export OTU tables\n",
    "\n",
    "cd ~/sync/github/fungal_diversity_in_soil/2024_Aug/ITS/5_vsearch_files/\n",
    "\n",
    "##############\n",
    "# ITS\n",
    "\n",
    "qiime tools export \\\n",
    "    --input-path ./97/st2_nochim-97_ITS.qza \\\n",
    "    --output-path ./97/\n",
    "    \n",
    "biom convert \\\n",
    "    -i ./97/feature-table.biom \\\n",
    "    -o ./97/feature-table-97_test202408_ITS_PacBio.tsv --to-tsv\n",
    "\n",
    "\n",
    "qiime tools export \\\n",
    "    --input-path ./99/st2_nochim-99_ITS.qza \\\n",
    "    --output-path ./99/\n",
    "    \n",
    "biom convert \\\n",
    "    -i ./99/feature-table.biom \\\n",
    "    -o ./99/feature-table-97_test202408_ITS_PacBio.tsv --to-tsv\n",
    "\n",
    "# open the .tsv file with LibreOffice or Excel, select abundances, then Edition > Find and replace,\n",
    "# Seek for ^[0-9] and replace it by & (tick \"regular expressions\")"
   ]
  },
  {
   "cell_type": "code",
   "execution_count": 5,
   "id": "d396f643-04e4-40f5-abe7-64a7fee8195d",
   "metadata": {
    "jupyter": {
     "source_hidden": true
    }
   },
   "outputs": [
    {
     "name": "stdout",
     "output_type": "stream",
     "text": [
      "\u001b[32mSaved FeatureData[RNASequence] to: silva-138.2-ssu-nr99-rna-seqs.qza\u001b[0m004l\u001b[?2004l\u001b[?2004l\u001b[?2004l\u001b[?2004l\u001b[?2004l\u001b[?2004l\u001b[?2004l\n",
      "\u001b[32mSaved FeatureData[Taxonomy] to: silva-138.2-ssu-nr99-tax.qza\u001b[0m\n",
      "\u001b[0m\u001b[?2004h(qiime2-amplicon-2024.5) "
     ]
    },
    {
     "ename": "",
     "evalue": "1",
     "output_type": "error",
     "traceback": []
    }
   ],
   "source": [
    "# Taxonomic assignation of 16SV4V5 sequences with the database SILVA 138.1-ssu-nr99 fitted to the approriate markers\n",
    "# classifier must have been prepared before, see https://docs.qiime2.org/2023.5/tutorials/feature-classifier/\n",
    "\n",
    "\n",
    "##############\n",
    "# ITS\n",
    "\n",
    "cd ~/sync/references_metabarcoding/Silva138.2\n",
    "\n",
    "qiime rescript get-silva-data \\\n",
    "    --p-version '138' \\\n",
    "    --p-target 'SSURef_NR99' \\\n",
    "    --o-silva-sequences silva-138.2-ssu-nr99-rna-seqs.qza \\\n",
    "    --o-silva-taxonomy silva-138.2-ssu-nr99-tax.qza"
   ]
  },
  {
   "cell_type": "code",
   "execution_count": 6,
   "id": "06bdb961-cbce-47b6-9e36-98a923ea59be",
   "metadata": {},
   "outputs": [
    {
     "name": "stdout",
     "output_type": "stream",
     "text": [
      "(qiime2-amplicon-2024.5) \n",
      "(qiime2-amplicon-2024.5) \n",
      "(qiime2-amplicon-2024.5) \n",
      "(qiime2-amplicon-2024.5) \n",
      "(qiime2-amplicon-2024.5) \n",
      "(qiime2-amplicon-2024.5) \n",
      "\u001b[32mImported ./sh_refs_qiime_ver10_97_04.04.2024.fasta as DNASequencesDirectoryFormat to ./sh_refs_qiime_ver10_97_04.04.2024.qza\u001b[0m\n",
      "\u001b[0m(qiime2-amplicon-2024.5) \n",
      "(qiime2-amplicon-2024.5) \n",
      "(qiime2-amplicon-2024.5) \n",
      "(qiime2-amplicon-2024.5) \n",
      "(qiime2-amplicon-2024.5) \n",
      "\u001b[32mImported ./sh_taxonomy_qiime_ver10_97_04.04.2024.txt as HeaderlessTSVTaxonomyFormat to ./sh_taxonomy_qiime_ver10_97_04.04.2024.qza\u001b[0m\n",
      "\u001b[0m(qiime2-amplicon-2024.5) \n"
     ]
    },
    {
     "ename": "",
     "evalue": "1",
     "output_type": "error",
     "traceback": []
    }
   ],
   "source": [
    "####### Fungi\n",
    "# UNITE\n",
    "# import des sequences refs UNITE https://unite.ut.ee/repository.php\n",
    "\n",
    "# 97%\n",
    "\n",
    "cd ~/sync/references_metabarcoding/Unite_2024\n",
    "\n",
    "qiime tools import \\\n",
    " --input-path ./sh_refs_qiime_ver10_97_04.04.2024.fasta \\\n",
    " --output-path ./sh_refs_qiime_ver10_97_04.04.2024.qza \\\n",
    " --type \"FeatureData[Sequence]\"\n",
    "\n",
    "# import du fichier taxo UNITE\n",
    "# ajouter en 1e ligne du fichier taxo : \n",
    "# Feature ID\tTaxon\n",
    "qiime tools import \\\n",
    " --input-path ./sh_taxonomy_qiime_ver10_97_04.04.2024.txt \\\n",
    " --output-path ./sh_taxonomy_qiime_ver10_97_04.04.2024.qza \\\n",
    " --type \"FeatureData[Taxonomy]\" \\\n",
    " --input-format HeaderlessTSVTaxonomyFormat\n",
    "\n",
    "\n",
    "\n",
    "# 99%\n",
    "\n",
    "cd ~/sync/references_metabarcoding/Unite_2024\n",
    "\n",
    "qiime tools import \\\n",
    " --input-path ./sh_refs_qiime_ver10_99_04.04.2024.fasta \\\n",
    " --output-path ./sh_refs_qiime_ver10_99_04.04.2024.qza \\\n",
    " --type \"FeatureData[Sequence]\"\n",
    "\n",
    "# import du fichier taxo UNITE\n",
    "# ajouter en 1e ligne du fichier taxo : \n",
    "# Feature ID\tTaxon\n",
    "qiime tools import \\\n",
    " --input-path ./sh_taxonomy_qiime_ver10_99_04.04.2024.txt \\\n",
    " --output-path ./sh_taxonomy_qiime_ver10_99_04.04.2024.qza \\\n",
    " --type \"FeatureData[Taxonomy]\" \\\n",
    " --input-format HeaderlessTSVTaxonomyFormat"
   ]
  },
  {
   "cell_type": "code",
   "execution_count": 8,
   "id": "3cbdbe92-e260-4af9-abdd-deb75e456e57",
   "metadata": {},
   "outputs": [
    {
     "name": "stdout",
     "output_type": "stream",
     "text": [
      "(qiime2-amplicon-2024.5) \n",
      "(qiime2-amplicon-2024.5) \n",
      "(qiime2-amplicon-2024.5) \n",
      "(qiime2-amplicon-2024.5) \n",
      "(qiime2-amplicon-2024.5) \n",
      "(qiime2-amplicon-2024.5) \n",
      "\u001b[32mSaved FeatureData[Taxonomy] to: ./5_blast-assignation/97/blast_test202408_ITS_PacBio_refs_ver10_97_04.04.2024.qza\u001b[0m\n",
      "\u001b[32mSaved FeatureData[BLAST6] to: ./5_blast-assignation/97/results_test202408_ITS_PacBio_refs_ver10_97_04.04.2024.qza\u001b[0m\n",
      "\u001b[0m(qiime2-amplicon-2024.5) \n",
      "(qiime2-amplicon-2024.5) \n",
      "(qiime2-amplicon-2024.5) \n",
      "\u001b[32mExported ./5_blast-assignation/97/blast_test202408_ITS_PacBio_refs_ver10_97_04.04.2024.qza as TSVTaxonomyDirectoryFormat to directory ./5_blast-assignation/97/\u001b[0m\n",
      "\u001b[0m(qiime2-amplicon-2024.5) \n",
      "(qiime2-amplicon-2024.5) \n",
      "\u001b[32mExported ./5_blast-assignation/97/results_test202408_ITS_PacBio_refs_ver10_97_04.04.2024.qza as BLAST6DirectoryFormat to directory ./5_blast-assignation/97/\u001b[0m\n",
      "\u001b[0m(qiime2-amplicon-2024.5) \n"
     ]
    },
    {
     "ename": "",
     "evalue": "1",
     "output_type": "error",
     "traceback": []
    }
   ],
   "source": [
    "# BLAST+\n",
    "cd ~/sync/github/fungal_diversity_in_soil/2024_Aug/ITS\n",
    "\n",
    "# 97%\n",
    "mkdir ./6_assignation_files\n",
    "mkdir ./6_assignation_files/97\n",
    "qiime feature-classifier classify-consensus-blast \\\n",
    "        --i-query  ./5_vsearch_files/97/rep-seqs-97_ITS.qza \\\n",
    "        --i-reference-reads ~/sync/references_metabarcoding/Unite_2024/sh_refs_qiime_ver10_97_04.04.2024.qza \\\n",
    "        --i-reference-taxonomy ~/sync/references_metabarcoding/Unite_2024/sh_taxonomy_qiime_ver10_97_04.04.2024.qza \\\n",
    "        --p-num-threads 8 \\\n",
    "        --o-classification ./6_assignation_files/97/blast_test202408_ITS_PacBio_refs_ver10_97_04.04.2024.qza \\\n",
    "        --o-search-results ./6_assignation_files/97/results_test202408_ITS_PacBio_refs_ver10_97_04.04.2024.qza\n",
    "\n",
    "# exporter en .biom\n",
    "qiime tools export \\\n",
    "        --input-path ./6_assignation_files/97/blast_test202408_ITS_PacBio_refs_ver10_97_04.04.2024.qza \\\n",
    "        --output-path ./6_assignation_files/97/\n",
    "\n",
    "qiime tools export \\\n",
    "        --input-path ./6_assignation_files/97/results_test202408_ITS_PacBio_refs_ver10_97_04.04.2024.qza \\\n",
    "        --output-path ./6_assignation_files/97/"
   ]
  },
  {
   "cell_type": "code",
   "execution_count": 10,
   "id": "5dc5db97-2f99-4fcf-b84a-d112667bc8a3",
   "metadata": {},
   "outputs": [
    {
     "name": "stdout",
     "output_type": "stream",
     "text": [
      "(qiime2-amplicon-2024.5) \n",
      "(qiime2-amplicon-2024.5) \n",
      "(qiime2-amplicon-2024.5) \n",
      "(qiime2-amplicon-2024.5) \n",
      "(qiime2-amplicon-2024.5) \n",
      "\u001b[32mSaved FeatureData[Taxonomy] to: ./5_blast-assignation/99/blast_test202408_ITS_PacBio_refs_ver10_99_04.04.2024.qza\u001b[0m\n",
      "\u001b[32mSaved FeatureData[BLAST6] to: ./5_blast-assignation/99/results_test202408_ITS_PacBio_refs_ver10_99_04.04.2024.qza\u001b[0m\n",
      "\u001b[0m(qiime2-amplicon-2024.5) \n",
      "(qiime2-amplicon-2024.5) \n",
      "(qiime2-amplicon-2024.5) \n",
      "\u001b[32mExported ./5_blast-assignation/99/blast_test202408_ITS_PacBio_refs_ver10_99_04.04.2024.qza as TSVTaxonomyDirectoryFormat to directory ./5_blast-assignation/99/\u001b[0m\n",
      "\u001b[0m(qiime2-amplicon-2024.5) \n",
      "(qiime2-amplicon-2024.5) \n",
      "\u001b[32mExported ./5_blast-assignation/99/results_test202408_ITS_PacBio_refs_ver10_99_04.04.2024.qza as BLAST6DirectoryFormat to directory ./5_blast-assignation/99/\u001b[0m\n",
      "\u001b[0m(qiime2-amplicon-2024.5) \n"
     ]
    },
    {
     "ename": "",
     "evalue": "1",
     "output_type": "error",
     "traceback": []
    }
   ],
   "source": [
    "# BLAST+\n",
    "cd ~/sync/github/fungal_diversity_in_soil/2024_Aug/ITS\n",
    "\n",
    "# 99%\n",
    "mkdir ./6_assignation_files/99\n",
    "qiime feature-classifier classify-consensus-blast \\\n",
    "        --i-query  ./5_vsearch_files/99/rep-seqs-99_ITS.qza \\\n",
    "        --i-reference-reads ~/sync/references_metabarcoding/Unite_2024/sh_refs_qiime_ver10_99_04.04.2024.qza \\\n",
    "        --i-reference-taxonomy ~/sync/references_metabarcoding/Unite_2024/sh_taxonomy_qiime_ver10_99_04.04.2024.qza \\\n",
    "        --p-num-threads 8 \\\n",
    "        --o-classification ./6_assignation_files/99/blast_test202408_ITS_PacBio_refs_ver10_99_04.04.2024.qza \\\n",
    "        --o-search-results ./6_assignation_files/99/results_test202408_ITS_PacBio_refs_ver10_99_04.04.2024.qza\n",
    "\n",
    "# exporter en .biom\n",
    "qiime tools export \\\n",
    "        --input-path ./6_assignation_files/99/blast_test202408_ITS_PacBio_refs_ver10_99_04.04.2024.qza \\\n",
    "        --output-path ./6_assignation_files/99/\n",
    "\n",
    "qiime tools export \\\n",
    "        --input-path ./6_assignation_files/99/results_test202408_ITS_PacBio_refs_ver10_99_04.04.2024.qza \\\n",
    "        --output-path ./6_assignation_files/99/"
   ]
  }
 ],
 "metadata": {
  "kernelspec": {
   "display_name": "Bash",
   "language": "bash",
   "name": "bash"
  },
  "language_info": {
   "codemirror_mode": "shell",
   "file_extension": ".sh",
   "mimetype": "text/x-sh",
   "name": "bash"
  }
 },
 "nbformat": 4,
 "nbformat_minor": 5
}
